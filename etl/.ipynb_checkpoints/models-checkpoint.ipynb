{
 "cells": [
  {
   "cell_type": "code",
   "execution_count": 1,
   "id": "dbd24970-3af5-4574-bc6c-99e1ff2d8abb",
   "metadata": {},
   "outputs": [
    {
     "name": "stderr",
     "output_type": "stream",
     "text": [
      "Setting default log level to \"WARN\".\n",
      "To adjust logging level use sc.setLogLevel(newLevel). For SparkR, use setLogLevel(newLevel).\n",
      "25/06/23 11:11:40 WARN NativeCodeLoader: Unable to load native-hadoop library for your platform... using builtin-java classes where applicable\n"
     ]
    }
   ],
   "source": [
    "from pyspark.sql.functions import *\n",
    "from pyspark.sql.types import (\n",
    "    StructType, StructField, IntegerType, StringType,\n",
    "    FloatType, ArrayType, DateType, LongType,\n",
    "    BooleanType\n",
    ")\n",
    "\n",
    "from pyspark.sql import SparkSession\n",
    "\n",
    "spark = SparkSession.builder\\\n",
    "        .appName(\"model-app\")\\\n",
    "        .master(\"spark://spark-master:7077\")\\\n",
    "        .getOrCreate()\n"
   ]
  },
  {
   "cell_type": "code",
   "execution_count": 2,
   "id": "a4de49e5-5eb7-4821-953d-c4cd184989fc",
   "metadata": {},
   "outputs": [],
   "source": [
    "def read_parquet_file(file_path):\n",
    "    df = spark.read \\\n",
    "                .option(\"mode\", \"PERMISSIVE\") \\\n",
    "                .parquet(file_path)\n",
    "    return df\n",
    "\n",
    "current_date = \"2025-06-21\""
   ]
  },
  {
   "cell_type": "code",
   "execution_count": 3,
   "id": "5cef09f4-59c5-4b75-97a7-c56e1e7fc03b",
   "metadata": {},
   "outputs": [
    {
     "name": "stderr",
     "output_type": "stream",
     "text": [
      "                                                                                "
     ]
    },
    {
     "name": "stdout",
     "output_type": "stream",
     "text": [
      "root\n",
      " |-- movie_id: integer (nullable = true)\n",
      " |-- imdb_id: string (nullable = true)\n",
      " |-- original_title: string (nullable = true)\n",
      " |-- title: string (nullable = true)\n",
      " |-- budget: long (nullable = true)\n",
      " |-- genres: array (nullable = true)\n",
      " |    |-- element: struct (containsNull = true)\n",
      " |    |    |-- genre_id: integer (nullable = true)\n",
      " |    |    |-- genre_name: string (nullable = true)\n",
      " |-- origin_country: array (nullable = true)\n",
      " |    |-- element: string (containsNull = true)\n",
      " |-- popularity: float (nullable = true)\n",
      " |-- production_companies: array (nullable = true)\n",
      " |    |-- element: struct (containsNull = true)\n",
      " |    |    |-- company_id: integer (nullable = true)\n",
      " |    |    |-- company_name: string (nullable = true)\n",
      " |    |    |-- company_country: string (nullable = true)\n",
      " |-- release_date: date (nullable = true)\n",
      " |-- revenue: long (nullable = true)\n",
      " |-- runtime: integer (nullable = true)\n",
      " |-- vote_average: float (nullable = true)\n",
      " |-- vote_count: integer (nullable = true)\n",
      "\n"
     ]
    },
    {
     "name": "stderr",
     "output_type": "stream",
     "text": [
      "                                                                                "
     ]
    },
    {
     "data": {
      "text/plain": [
       "(None, 9203)"
      ]
     },
     "execution_count": 3,
     "metadata": {},
     "output_type": "execute_result"
    }
   ],
   "source": [
    "movie_details_df = read_parquet_file(\"movie_details.parquet\")\n",
    "movie_details_df.printSchema(), movie_details_df.count()"
   ]
  },
  {
   "cell_type": "code",
   "execution_count": 4,
   "id": "5a61ed99-c1ba-4c7e-a449-afea0f501c6b",
   "metadata": {},
   "outputs": [
    {
     "name": "stdout",
     "output_type": "stream",
     "text": [
      "root\n",
      " |-- company_id: integer (nullable = true)\n",
      " |-- company_name: string (nullable = true)\n",
      " |-- company_country: string (nullable = true)\n",
      "\n",
      "root\n",
      " |-- movie_id: integer (nullable = true)\n",
      " |-- imdb_id: string (nullable = true)\n",
      " |-- original_title: string (nullable = true)\n",
      " |-- title: string (nullable = true)\n",
      " |-- budget: long (nullable = true)\n",
      " |-- genres: array (nullable = true)\n",
      " |    |-- element: string (containsNull = true)\n",
      " |-- origin_country: array (nullable = true)\n",
      " |    |-- element: string (containsNull = true)\n",
      " |-- popularity: float (nullable = true)\n",
      " |-- production_companies: array (nullable = true)\n",
      " |    |-- element: integer (containsNull = true)\n",
      " |-- release_date: date (nullable = true)\n",
      " |-- revenue: long (nullable = true)\n",
      " |-- runtime: integer (nullable = true)\n",
      " |-- vote_average: float (nullable = true)\n",
      " |-- vote_count: integer (nullable = true)\n",
      "\n"
     ]
    },
    {
     "data": {
      "text/plain": [
       "(None, None)"
      ]
     },
     "execution_count": 4,
     "metadata": {},
     "output_type": "execute_result"
    }
   ],
   "source": [
    "movie_details_sep = movie_details_df \\\n",
    "    .withColumn(\n",
    "        \"genres\",\n",
    "        transform(col(\"genres\"), lambda x: x[\"genre_name\"])\n",
    "    ) \\\n",
    "    .withColumn(\n",
    "        \"production_companies\",\n",
    "        transform(col(\"production_companies\"), lambda x: x[\"company_id\"])\n",
    "    )\n",
    "\n",
    "companies_df = movie_details_df \\\n",
    "    .select(\n",
    "        explode(col(\"production_companies\")).alias(\"production_companies\")\n",
    "    ) \\\n",
    "    .select(\n",
    "        \"production_companies.*\"\n",
    "    ) \\\n",
    "    .dropDuplicates()\n",
    "\n",
    "companies_df.printSchema(), movie_details_sep.printSchema()"
   ]
  },
  {
   "cell_type": "code",
   "execution_count": 5,
   "id": "200e63d5-a4b6-4cd2-a448-38ad3736f180",
   "metadata": {},
   "outputs": [
    {
     "name": "stdout",
     "output_type": "stream",
     "text": [
      "root\n",
      " |-- movie_id: integer (nullable = true)\n",
      " |-- person_id: integer (nullable = true)\n",
      " |-- gender: integer (nullable = true)\n",
      " |-- name: string (nullable = true)\n",
      " |-- order: integer (nullable = true)\n",
      " |-- department: string (nullable = true)\n",
      "\n"
     ]
    },
    {
     "name": "stderr",
     "output_type": "stream",
     "text": [
      "                                                                                "
     ]
    },
    {
     "data": {
      "text/plain": [
       "(None, 160565)"
      ]
     },
     "execution_count": 5,
     "metadata": {},
     "output_type": "execute_result"
    }
   ],
   "source": [
    "cast_df = read_parquet_file(\"cast.parquet\")\n",
    "\n",
    "cast_df.printSchema(), cast_df.count()"
   ]
  },
  {
   "cell_type": "code",
   "execution_count": 6,
   "id": "f81a226a-d3fe-44cf-9418-e14640511456",
   "metadata": {},
   "outputs": [
    {
     "name": "stdout",
     "output_type": "stream",
     "text": [
      "root\n",
      " |-- person_id: integer (nullable = true)\n",
      " |-- name: string (nullable = true)\n",
      " |-- gender: integer (nullable = true)\n",
      " |-- department: string (nullable = true)\n",
      "\n",
      "root\n",
      " |-- movie_id: integer (nullable = true)\n",
      " |-- casts: array (nullable = false)\n",
      " |    |-- element: struct (containsNull = false)\n",
      " |    |    |-- person_id: integer (nullable = true)\n",
      " |    |    |-- order: integer (nullable = true)\n",
      "\n"
     ]
    },
    {
     "data": {
      "text/plain": [
       "(None, None)"
      ]
     },
     "execution_count": 6,
     "metadata": {},
     "output_type": "execute_result"
    }
   ],
   "source": [
    "cast_movie_df = cast_df \\\n",
    "    .groupBy(\n",
    "        col(\"movie_id\")\n",
    "    ).agg(\n",
    "        collect_list(\n",
    "            struct(\n",
    "                col(\"person_id\"),\n",
    "                col(\"order\")\n",
    "            )\n",
    "        ).alias(\"casts\")\n",
    "    )\n",
    "cast_details_df = cast_df \\\n",
    "    .select(\n",
    "        \"person_id\",\n",
    "        \"name\",\n",
    "        \"gender\",\n",
    "        \"department\"\n",
    "    ) \\\n",
    "    .dropDuplicates([\"person_id\"])\n",
    "cast_details_df.printSchema(), cast_movie_df.printSchema()"
   ]
  },
  {
   "cell_type": "code",
   "execution_count": 7,
   "id": "a2878de7-b8e6-4138-a707-1b41359cf21f",
   "metadata": {},
   "outputs": [
    {
     "name": "stdout",
     "output_type": "stream",
     "text": [
      "root\n",
      " |-- person_id: integer (nullable = true)\n",
      " |-- name: string (nullable = true)\n",
      " |-- gender: integer (nullable = true)\n",
      " |-- department: string (nullable = true)\n",
      "\n",
      "root\n",
      " |-- movie_id: integer (nullable = true)\n",
      " |-- crews: array (nullable = false)\n",
      " |    |-- element: struct (containsNull = false)\n",
      " |    |    |-- person_id: integer (nullable = true)\n",
      " |    |    |-- job: string (nullable = true)\n",
      "\n"
     ]
    },
    {
     "data": {
      "text/plain": [
       "(None, None)"
      ]
     },
     "execution_count": 7,
     "metadata": {},
     "output_type": "execute_result"
    }
   ],
   "source": [
    "crew_df = read_parquet_file(\"crew.parquet\")\n",
    "\n",
    "crew_movie_id = crew_df \\\n",
    "    .groupBy(\n",
    "        col(\"movie_id\")\n",
    "    ).agg(\n",
    "        collect_list(\n",
    "            struct(\n",
    "                col(\"person_id\"),\n",
    "                col(\"job\")\n",
    "            )\n",
    "        ).alias(\"crews\")\n",
    "    )\n",
    "\n",
    "crew_details_df = crew_df \\\n",
    "    .select(\n",
    "        \"person_id\",\n",
    "        \"name\",\n",
    "        \"gender\",\n",
    "        \"department\"\n",
    "    ) \\\n",
    "    .dropDuplicates([\"person_id\"])\n",
    "\n",
    "\n",
    "crew_details_df.printSchema(), crew_movie_id.printSchema()"
   ]
  },
  {
   "cell_type": "code",
   "execution_count": 8,
   "id": "ad43577f-e117-4279-94aa-f217fba6c3f2",
   "metadata": {},
   "outputs": [
    {
     "name": "stdout",
     "output_type": "stream",
     "text": [
      "root\n",
      " |-- imdb_id: string (nullable = true)\n",
      " |-- budget: long (nullable = true)\n",
      " |-- domestic_opening: long (nullable = true)\n",
      " |-- worldwide_gross: long (nullable = true)\n",
      "\n"
     ]
    }
   ],
   "source": [
    "box_office_df = read_parquet_file(\"box_office.parquet\")\\\n",
    "    .select(\n",
    "        \"imdb_id\",\n",
    "        col(\"budget\").cast(LongType()),\n",
    "        col(\"domestic_opening\").cast(LongType()),\n",
    "        col(\"worldwide_gross\").cast(LongType()),\n",
    "    )\n",
    "\n",
    "box_office_df.printSchema()"
   ]
  },
  {
   "cell_type": "code",
   "execution_count": 51,
   "id": "0f2f681d-8bb5-4c15-b15e-4514ffa65c31",
   "metadata": {},
   "outputs": [
    {
     "name": "stdout",
     "output_type": "stream",
     "text": [
      "root\n",
      " |-- movie_id: integer (nullable = true)\n",
      " |-- imdb_id: string (nullable = true)\n",
      " |-- original_title: string (nullable = true)\n",
      " |-- title: string (nullable = true)\n",
      " |-- genres: array (nullable = true)\n",
      " |    |-- element: string (containsNull = true)\n",
      " |-- origin_country: array (nullable = true)\n",
      " |    |-- element: string (containsNull = true)\n",
      " |-- popularity: array (nullable = false)\n",
      " |    |-- element: float (containsNull = true)\n",
      " |-- production_companies: array (nullable = true)\n",
      " |    |-- element: integer (containsNull = true)\n",
      " |-- release_date: date (nullable = true)\n",
      " |-- runtime: integer (nullable = true)\n",
      " |-- vote_average: array (nullable = false)\n",
      " |    |-- element: float (containsNull = true)\n",
      " |-- vote_count: array (nullable = false)\n",
      " |    |-- element: integer (containsNull = true)\n",
      " |-- casts: array (nullable = true)\n",
      " |    |-- element: struct (containsNull = false)\n",
      " |    |    |-- person_id: integer (nullable = true)\n",
      " |    |    |-- order: integer (nullable = true)\n",
      " |-- crews: array (nullable = true)\n",
      " |    |-- element: struct (containsNull = false)\n",
      " |    |    |-- person_id: integer (nullable = true)\n",
      " |    |    |-- job: string (nullable = true)\n",
      " |-- opening_gross: long (nullable = true)\n",
      " |-- movie_budget: long (nullable = true)\n",
      " |-- gross: array (nullable = false)\n",
      " |    |-- element: struct (containsNull = false)\n",
      " |    |    |-- value: long (nullable = true)\n",
      " |-- current_date: array (nullable = false)\n",
      " |    |-- element: date (containsNull = true)\n",
      "\n"
     ]
    },
    {
     "data": {
      "text/plain": [
       "(None, 9203)"
      ]
     },
     "execution_count": 51,
     "metadata": {},
     "output_type": "execute_result"
    }
   ],
   "source": [
    "## join movie df\n",
    "movie_join_df = movie_details_sep \\\n",
    "    .join(cast_movie_df, movie_details_sep.movie_id == cast_movie_df.movie_id, \"left\") \\\n",
    "    .join(crew_movie_id, movie_details_sep.movie_id == crew_movie_id.movie_id, \"left\") \\\n",
    "    .join(box_office_df, movie_details_sep.imdb_id == box_office_df.imdb_id, \"left\") \\\n",
    "    .withColumn(\n",
    "        \"opening_gross\",\n",
    "        col(\"domestic_opening\").cast(LongType())\n",
    "    ) \\\n",
    "    .withColumn(\n",
    "        \"movie_budget\",\n",
    "        coalesce(box_office_df.budget, movie_details_sep.budget).cast(LongType())\n",
    "    )\\\n",
    "    .withColumn(\n",
    "        \"gross\",\n",
    "        array(struct(coalesce(box_office_df.worldwide_gross, movie_details_sep.revenue).cast(LongType()).alias(\"value\")))\n",
    "    ) \\\n",
    "    .withColumn(\n",
    "        \"current_date\",\n",
    "        array(lit(current_date).cast(DateType())).cast(ArrayType(DateType()))\n",
    "    ) \\\n",
    "    .drop(crew_movie_id.movie_id, cast_movie_df.movie_id, box_office_df.imdb_id, \n",
    "          \"budget\", box_office_df.worldwide_gross, movie_details_sep.revenue, \"domestic_opening\") \\\n",
    "    .withColumn(\n",
    "        \"popularity\",\n",
    "        array(col(\"popularity\")).cast(ArrayType(FloatType()))\n",
    "    ) \\\n",
    "    .withColumn(\n",
    "            \"vote_average\",\n",
    "            array(col(\"vote_average\")).cast(ArrayType(FloatType()))\n",
    "    ) \\\n",
    "    .withColumn(\n",
    "            \"vote_count\",\n",
    "            array(col(\"vote_count\")).cast(ArrayType(IntegerType()))\n",
    "    )\n",
    "movie_join_df.printSchema(), movie_join_df.count()"
   ]
  },
  {
   "cell_type": "code",
   "execution_count": 52,
   "id": "d3c093be-274f-40c8-b973-d9ec6ae65510",
   "metadata": {},
   "outputs": [
    {
     "name": "stdout",
     "output_type": "stream",
     "text": [
      "+--------+--------+------------+\n",
      "|movie_id|   gross|current_date|\n",
      "+--------+--------+------------+\n",
      "|     147|[{NULL}]|[2025-06-21]|\n",
      "+--------+--------+------------+\n",
      "\n"
     ]
    }
   ],
   "source": [
    "movie_join_df.select(\"movie_id\", \"gross\", \"current_date\").where(col(\"movie_id\") == 147).show()"
   ]
  },
  {
   "cell_type": "code",
   "execution_count": 129,
   "id": "5d4e905b-52d5-41c0-a8b3-336b3d43fc7f",
   "metadata": {},
   "outputs": [
    {
     "name": "stdout",
     "output_type": "stream",
     "text": [
      "root\n",
      " |-- person_id: integer (nullable = true)\n",
      " |-- name: string (nullable = true)\n",
      " |-- gender: integer (nullable = true)\n",
      " |-- department: string (nullable = true)\n",
      "\n"
     ]
    },
    {
     "data": {
      "text/plain": [
       "(None, 94371)"
      ]
     },
     "execution_count": 129,
     "metadata": {},
     "output_type": "execute_result"
    }
   ],
   "source": [
    "credit_df = cast_details_df.union(crew_details_df).dropDuplicates([\"person_id\"])\n",
    "\n",
    "credit_df.printSchema(), credit_df.count()"
   ]
  },
  {
   "cell_type": "code",
   "execution_count": 116,
   "id": "92a6fb12-457f-4ea4-b1e3-660bfd984c24",
   "metadata": {},
   "outputs": [],
   "source": [
    "spark.stop()"
   ]
  }
 ],
 "metadata": {
  "kernelspec": {
   "display_name": "Python 3 (ipykernel)",
   "language": "python",
   "name": "python3"
  },
  "language_info": {
   "codemirror_mode": {
    "name": "ipython",
    "version": 3
   },
   "file_extension": ".py",
   "mimetype": "text/x-python",
   "name": "python",
   "nbconvert_exporter": "python",
   "pygments_lexer": "ipython3",
   "version": "3.12.10"
  }
 },
 "nbformat": 4,
 "nbformat_minor": 5
}
