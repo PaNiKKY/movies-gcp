{
 "cells": [
  {
   "cell_type": "code",
   "execution_count": 29,
   "id": "147c2df2-f35e-4dc9-afa3-64093d493648",
   "metadata": {},
   "outputs": [],
   "source": [
    "from pyspark.sql.functions import *\n",
    "from pyspark.sql.types import (\n",
    "    StructType, StructField, IntegerType, StringType,\n",
    "    FloatType, ArrayType, DateType, LongType,\n",
    "    BooleanType\n",
    ")"
   ]
  },
  {
   "cell_type": "code",
   "execution_count": 30,
   "id": "ab7f30ae-76d0-4733-a828-2655a6bd5aae",
   "metadata": {},
   "outputs": [],
   "source": [
    "from pyspark.sql import SparkSession\n",
    "\n",
    "spark = SparkSession.builder\\\n",
    "        .appName(\"dev-app\")\\\n",
    "        .master(\"spark://spark-master:7077\")\\\n",
    "        .getOrCreate()"
   ]
  },
  {
   "cell_type": "code",
   "execution_count": 31,
   "id": "abcce4ff-2e3e-4bfb-9661-a5d3b6d8f76f",
   "metadata": {},
   "outputs": [],
   "source": [
    "def read_json_file(file_path):\n",
    "    df = spark.read \\\n",
    "                .option(\"mode\", \"PERMISSIVE\") \\\n",
    "                .option(\"multiline\",\"true\") \\\n",
    "                .json(file_path)\n",
    "    return df"
   ]
  },
  {
   "cell_type": "code",
   "execution_count": 32,
   "id": "c7ba882c-f420-4471-b7a6-9d530e6eb7f8",
   "metadata": {},
   "outputs": [
    {
     "name": "stderr",
     "output_type": "stream",
     "text": [
      "                                                                                "
     ]
    },
    {
     "name": "stdout",
     "output_type": "stream",
     "text": [
      "root\n",
      " |-- movie_id: integer (nullable = true)\n",
      " |-- imdb_id: string (nullable = true)\n",
      " |-- original_title: string (nullable = true)\n",
      " |-- title: string (nullable = true)\n",
      " |-- budget: long (nullable = true)\n",
      " |-- genres: array (nullable = true)\n",
      " |    |-- element: struct (containsNull = false)\n",
      " |    |    |-- genre_id: integer (nullable = true)\n",
      " |    |    |-- genre_name: string (nullable = true)\n",
      " |-- origin_country: array (nullable = true)\n",
      " |    |-- element: string (containsNull = true)\n",
      " |-- popularity: float (nullable = true)\n",
      " |-- production_companies: array (nullable = true)\n",
      " |    |-- element: struct (containsNull = false)\n",
      " |    |    |-- company_id: integer (nullable = true)\n",
      " |    |    |-- company_name: string (nullable = true)\n",
      " |    |    |-- company_country: string (nullable = true)\n",
      " |-- release_date: date (nullable = true)\n",
      " |-- revenue: long (nullable = true)\n",
      " |-- runtime: integer (nullable = true)\n",
      " |-- vote_average: float (nullable = true)\n",
      " |-- vote_count: integer (nullable = true)\n",
      "\n"
     ]
    },
    {
     "name": "stderr",
     "output_type": "stream",
     "text": [
      "                                                                                "
     ]
    },
    {
     "data": {
      "text/plain": [
       "(None, 9203, 9203)"
      ]
     },
     "execution_count": 32,
     "metadata": {},
     "output_type": "execute_result"
    }
   ],
   "source": [
    "movie_details_df = read_json_file(\"raw_2025_06_18_movie_details.json\")\n",
    "movie_details_clean = movie_details_df \\\n",
    "                    .select(col(\"id\").cast(IntegerType()), \n",
    "                            \"imdb_id\", \n",
    "                            \"original_title\", \n",
    "                            \"title\", \n",
    "                            col(\"budget\").cast(LongType()), \n",
    "                            transform(col(\"genres\"), lambda x: struct(\n",
    "                                                                        x[\"id\"].cast(IntegerType()).alias(\"genre_id\"),\n",
    "                                                                        x[\"name\"].cast(StringType()).alias(\"genre_name\")\n",
    "                                                                     )).alias(\"genres\"), \n",
    "                            \"origin_country\",\n",
    "                            col(\"popularity\").cast(FloatType()),\n",
    "                            transform(col(\"production_companies\"), lambda x: struct(\n",
    "                                                                                    x[\"id\"].cast(IntegerType()).alias(\"company_id\"),\n",
    "                                                                                    x[\"name\"].alias(\"company_name\"),\n",
    "                                                                                    x[\"origin_country\"].alias(\"company_country\")\n",
    "                                                                                )).alias(\"production_companies\"), \n",
    "                            col(\"release_date\").cast(DateType()),\n",
    "                            col(\"revenue\").cast(LongType()), \n",
    "                            col(\"runtime\").cast(IntegerType()), \n",
    "                            col(\"vote_average\").cast(FloatType()), \n",
    "                            col(\"vote_count\").cast(IntegerType())) \\\n",
    "                    .withColumn(\n",
    "                        \"genres\",\n",
    "                        when(size(col(\"genres\")) == 0, lit(None)).otherwise(col(\"genres\"))\n",
    "                    ) \\\n",
    "                    .withColumn(\n",
    "                        \"production_companies\",\n",
    "                        when(size(col(\"production_companies\")) == 0, lit(None)).otherwise(col(\"production_companies\"))\n",
    "                    ) \\\n",
    "                    .dropna(subset=[\"id\",\"popularity\"]) \\\n",
    "                    .dropDuplicates([\"id\"]) \\\n",
    "                    .withColumnRenamed(\"id\", \"movie_id\") \\\n",
    "                    .replace(0, None, [\"budget\", \"revenue\"])\n",
    "\n",
    "movie_details_clean.printSchema(), movie_details_clean.count(), movie_details_df.count()"
   ]
  },
  {
   "cell_type": "code",
   "execution_count": 33,
   "id": "62d0933f-f7bd-4c5b-bd72-b0739ed5e637",
   "metadata": {},
   "outputs": [
    {
     "name": "stderr",
     "output_type": "stream",
     "text": [
      "                                                                                "
     ]
    },
    {
     "name": "stdout",
     "output_type": "stream",
     "text": [
      "root\n",
      " |-- cast: array (nullable = true)\n",
      " |    |-- element: struct (containsNull = false)\n",
      " |    |    |-- person_id: integer (nullable = true)\n",
      " |    |    |-- gender: integer (nullable = true)\n",
      " |    |    |-- name: string (nullable = true)\n",
      " |    |    |-- order: integer (nullable = true)\n",
      " |    |    |-- department: string (nullable = true)\n",
      " |-- crew: array (nullable = true)\n",
      " |    |-- element: struct (containsNull = false)\n",
      " |    |    |-- person_id: integer (nullable = true)\n",
      " |    |    |-- gender: integer (nullable = true)\n",
      " |    |    |-- name: string (nullable = true)\n",
      " |    |    |-- department: string (nullable = true)\n",
      " |    |    |-- job: string (nullable = true)\n",
      " |-- movie_id: integer (nullable = true)\n",
      "\n"
     ]
    },
    {
     "name": "stderr",
     "output_type": "stream",
     "text": [
      "                                                                                "
     ]
    },
    {
     "data": {
      "text/plain": [
       "(None, 9231)"
      ]
     },
     "execution_count": 33,
     "metadata": {},
     "output_type": "execute_result"
    }
   ],
   "source": [
    "credit_df = read_json_file(\"raw_2025_06_18_movie_credits.json\")\n",
    "credit_clean = credit_df \\\n",
    "                .withColumn(\"movie_id\", col(\"id\").cast(IntegerType())) \\\n",
    "                .drop(\"id\") \\\n",
    "                .withColumn(\n",
    "                        \"cast\",\n",
    "                        transform(col(\"cast\"), lambda x: struct(x[\"id\"].cast(IntegerType()).alias(\"person_id\"), \n",
    "                                                                x[\"gender\"].cast(IntegerType()).alias(\"gender\"),\n",
    "                                                                x[\"name\"],\n",
    "                                                                x[\"order\"].cast(IntegerType()).alias(\"order\"),\n",
    "                                                                x[\"known_for_department\"].alias(\"department\"),\n",
    "                                                               )\n",
    "                                 )\n",
    "                    ) \\\n",
    "                .withColumn(\n",
    "                        \"crew\",\n",
    "                        transform(col(\"crew\"), lambda x: struct(x[\"id\"].cast(IntegerType()).alias(\"person_id\"), \n",
    "                                                                x[\"gender\"].cast(IntegerType()).alias(\"gender\"),\n",
    "                                                                x[\"name\"],\n",
    "                                                                x[\"department\"],\n",
    "                                                                x[\"job\"]\n",
    "                                                               )\n",
    "                                 )\n",
    "                    ) \\\n",
    "                .dropna(subset=[\"movie_id\"]) \\\n",
    "                .dropDuplicates([\"movie_id\"])\n",
    "credit_clean.printSchema(), credit_clean.count()"
   ]
  },
  {
   "cell_type": "code",
   "execution_count": 34,
   "id": "e1820ad8-b038-4b4b-aa17-02ddec38c03f",
   "metadata": {},
   "outputs": [
    {
     "name": "stdout",
     "output_type": "stream",
     "text": [
      "root\n",
      " |-- movie_id: integer (nullable = true)\n",
      " |-- person_id: integer (nullable = true)\n",
      " |-- gender: integer (nullable = true)\n",
      " |-- name: string (nullable = true)\n",
      " |-- department: string (nullable = true)\n",
      " |-- job: string (nullable = true)\n",
      "\n"
     ]
    },
    {
     "name": "stderr",
     "output_type": "stream",
     "text": [
      "                                                                                "
     ]
    },
    {
     "data": {
      "text/plain": [
       "(None, 25016)"
      ]
     },
     "execution_count": 34,
     "metadata": {},
     "output_type": "execute_result"
    }
   ],
   "source": [
    "crew_filter_df = credit_clean \\\n",
    "            .select(\n",
    "                \"movie_id\",\n",
    "                explode(\"crew\").alias(\"crew\")\n",
    "            ) \\\n",
    "            .select(\n",
    "                \"movie_id\",\n",
    "                \"crew.*\"\n",
    "            ) \\\n",
    "            .where((col(\"job\") == \"Director\")| (col(\"job\") == \"Writer\") | (col(\"job\") == \"Screenplay\"))\n",
    "\n",
    "\n",
    "crew_filter_df.printSchema(), crew_filter_df.count()"
   ]
  },
  {
   "cell_type": "code",
   "execution_count": 35,
   "id": "585518fa-4192-4823-9811-59140fb3d1cd",
   "metadata": {},
   "outputs": [
    {
     "name": "stdout",
     "output_type": "stream",
     "text": [
      "root\n",
      " |-- movie_id: integer (nullable = true)\n",
      " |-- person_id: integer (nullable = true)\n",
      " |-- gender: integer (nullable = true)\n",
      " |-- name: string (nullable = true)\n",
      " |-- order: integer (nullable = true)\n",
      " |-- department: string (nullable = true)\n",
      "\n"
     ]
    },
    {
     "name": "stderr",
     "output_type": "stream",
     "text": [
      "                                                                                "
     ]
    },
    {
     "data": {
      "text/plain": [
       "(None, 160565)"
      ]
     },
     "execution_count": 35,
     "metadata": {},
     "output_type": "execute_result"
    }
   ],
   "source": [
    "cast_filter_df = credit_clean \\\n",
    "            .select(\n",
    "                \"movie_id\",\n",
    "                explode(\"cast\").alias(\"cast\")\n",
    "            ) \\\n",
    "            .select(\n",
    "                \"movie_id\",\n",
    "                \"cast.*\"\n",
    "            ) \\\n",
    "            .where(col(\"order\") <= 20)\n",
    "\n",
    "\n",
    "cast_filter_df.printSchema(), cast_filter_df.count()"
   ]
  },
  {
   "cell_type": "code",
   "execution_count": 36,
   "id": "7a706f3c-1958-45cb-bb93-03942a6910db",
   "metadata": {},
   "outputs": [
    {
     "name": "stdout",
     "output_type": "stream",
     "text": [
      "root\n",
      " |-- budget: string (nullable = true)\n",
      " |-- domestic_opening: string (nullable = true)\n",
      " |-- imdb_id: string (nullable = true)\n",
      " |-- worldwide_gross: string (nullable = true)\n",
      "\n"
     ]
    },
    {
     "data": {
      "text/plain": [
       "(None, 8942)"
      ]
     },
     "execution_count": 36,
     "metadata": {},
     "output_type": "execute_result"
    }
   ],
   "source": [
    "box_office_df = read_json_file(\"raw_2025_06_18_box_office.json\")\n",
    "box_office_df.printSchema(), box_office_df.count()"
   ]
  },
  {
   "cell_type": "code",
   "execution_count": 37,
   "id": "1fb1b815-d984-46f0-a419-2ae6428aae5e",
   "metadata": {},
   "outputs": [],
   "source": [
    "box_office_clean = box_office_df \\\n",
    "                    .withColumn(\"worldwide_gross\", regexp_replace(col(\"worldwide_gross\"), \"\\\\$|,\", \"\").cast(LongType())) \\\n",
    "                    .withColumn(\"domestic_opening\", regexp_replace(col(\"domestic_opening\"), \",\", \"\").cast(LongType())) \\\n",
    "                    .withColumn(\"budget\", regexp_replace(col(\"budget\"), \",\", \"\").cast(LongType())) \\\n",
    "                    .dropna(subset=[\"imdb_id\"]) \\\n",
    "                    .dropDuplicates([\"imdb_id\"])"
   ]
  },
  {
   "cell_type": "code",
   "execution_count": 38,
   "id": "3b6a119d-f565-4d95-abe9-b850496ff6e5",
   "metadata": {},
   "outputs": [
    {
     "name": "stdout",
     "output_type": "stream",
     "text": [
      "root\n",
      " |-- budget: long (nullable = true)\n",
      " |-- domestic_opening: long (nullable = true)\n",
      " |-- imdb_id: string (nullable = true)\n",
      " |-- worldwide_gross: long (nullable = true)\n",
      "\n"
     ]
    },
    {
     "data": {
      "text/plain": [
       "(8942, None)"
      ]
     },
     "execution_count": 38,
     "metadata": {},
     "output_type": "execute_result"
    }
   ],
   "source": [
    "box_office_clean.count(), box_office_clean.printSchema()"
   ]
  },
  {
   "cell_type": "code",
   "execution_count": 39,
   "id": "34ee9dca-a8e2-463e-990f-4f7b0aec790f",
   "metadata": {},
   "outputs": [
    {
     "name": "stderr",
     "output_type": "stream",
     "text": [
      "                                                                                "
     ]
    }
   ],
   "source": [
    "# movie_details_clean.write.mode(\"overwrite\").parquet(\"movie_details.parquet\")\n",
    "crew_filter_df.write.mode(\"overwrite\").parquet(\"crew.parquet\")\n",
    "cast_filter_df.write.mode(\"overwrite\").parquet(\"cast.parquet\")\n",
    "box_office_df.write.mode(\"overwrite\").parquet(\"box_office.parquet\")"
   ]
  },
  {
   "cell_type": "code",
   "execution_count": 40,
   "id": "9387712c-766d-4cff-bf44-10f1bb1bf091",
   "metadata": {},
   "outputs": [],
   "source": [
    "spark.stop()"
   ]
  }
 ],
 "metadata": {
  "kernelspec": {
   "display_name": "Python 3 (ipykernel)",
   "language": "python",
   "name": "python3"
  },
  "language_info": {
   "codemirror_mode": {
    "name": "ipython",
    "version": 3
   },
   "file_extension": ".py",
   "mimetype": "text/x-python",
   "name": "python",
   "nbconvert_exporter": "python",
   "pygments_lexer": "ipython3",
   "version": "3.12.10"
  }
 },
 "nbformat": 4,
 "nbformat_minor": 5
}
